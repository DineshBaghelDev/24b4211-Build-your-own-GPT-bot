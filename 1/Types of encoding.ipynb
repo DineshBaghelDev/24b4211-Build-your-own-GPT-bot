{
 "cells": [
  {
   "cell_type": "markdown",
   "id": "9172f925-d91a-4cdc-b34e-cee15df98a22",
   "metadata": {},
   "source": [
    "# Text to Vector"
   ]
  },
  {
   "cell_type": "markdown",
   "id": "caf61eb9-ac0f-4d0d-8ff2-38f5e4919d0d",
   "metadata": {},
   "source": [
    "## One Hot Encoding\n",
    "D1 -  the food is good \n",
    "\n",
    "\n",
    "D2 - the food is bad\n",
    "\n",
    "\n",
    "vocab = the food is good bad\n",
    "\n",
    "\n",
    "vector of 'the' - [1 0 0 0 0 ] - different vector for different vector\n",
    "\n",
    "\n",
    "sentence = vector of vectors of 0,1"
   ]
  },
  {
   "cell_type": "markdown",
   "id": "7e1ff1c0-8264-4cc3-942e-aa8e7bfa072f",
   "metadata": {},
   "source": [
    "disadvantages - overfitting, non uniform size of input, no semantic meaning is captured, will not work for out of vocab words"
   ]
  },
  {
   "cell_type": "markdown",
   "id": "f88c803a-a279-43db-92a3-9daee60dde9f",
   "metadata": {},
   "source": [
    "## Bag of words\n",
    "      food good bad \n",
    "d1 = [  1    1    0]\n",
    "\n",
    "In binary BOW only 0,1 used\n",
    "\n",
    "In general BOW frequency of word is used\n",
    "\n",
    "Advantage - fixed size input, simple and intuitive\n",
    "\n",
    "\n",
    "Disadvantages - overfitting, ordering of words change, out of vocab, no semantic meaning\n"
   ]
  },
  {
   "cell_type": "markdown",
   "id": "2bb7bcf7-123b-472c-b4d7-cc0cc18cc43f",
   "metadata": {},
   "source": [
    "## N-grams\n",
    "s1- the food is good\n",
    "\n",
    "s2- the food is not good\n",
    "\n",
    "let say, we use bigram\n",
    "\n",
    "vocab = food not good food-good food-not not-good\n",
    "\n",
    "S1 = [1 0 1 1 0 0]\n",
    "\n",
    "S2 = [1 1 1 1 1 1]\n",
    "\n",
    "efficient in semantic meaning"
   ]
  },
  {
   "cell_type": "markdown",
   "id": "43d44888-81f6-4357-8b4f-190952f2e261",
   "metadata": {},
   "source": [
    "## Term Frequency - Inverse Document frequency {TF-IDF}\n",
    "TF = No. of rep of word in sentence/no. of words in sentence\n",
    "\n",
    "IDF = Log_e(No. of sentences/ No. of sentences containing the word)\n",
    "\n",
    "advantages - word impotance captured\n",
    "\n",
    "disadvantages - overfitting, out of vocab"
   ]
  },
  {
   "cell_type": "code",
   "execution_count": null,
   "id": "3515fbcd-cfcd-4d53-bcf7-b61630b06431",
   "metadata": {},
   "outputs": [],
   "source": []
  }
 ],
 "metadata": {
  "kernelspec": {
   "display_name": "Python 3 (ipykernel)",
   "language": "python",
   "name": "python3"
  },
  "language_info": {
   "codemirror_mode": {
    "name": "ipython",
    "version": 3
   },
   "file_extension": ".py",
   "mimetype": "text/x-python",
   "name": "python",
   "nbconvert_exporter": "python",
   "pygments_lexer": "ipython3",
   "version": "3.12.10"
  }
 },
 "nbformat": 4,
 "nbformat_minor": 5
}
