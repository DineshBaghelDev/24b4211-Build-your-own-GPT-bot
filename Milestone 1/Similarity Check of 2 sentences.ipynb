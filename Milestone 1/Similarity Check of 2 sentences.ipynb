{
 "cells": [
  {
   "cell_type": "code",
   "execution_count": 4,
   "id": "d9ab5a36-9cdd-42bd-a2a8-407935904f6f",
   "metadata": {},
   "outputs": [],
   "source": [
    "from sklearn.metrics.pairwise import cosine_similarity\n",
    "import gensim.downloader as api\n",
    "w2v = api.load(\"glove-wiki-gigaword-100\")"
   ]
  },
  {
   "cell_type": "code",
   "execution_count": 6,
   "id": "9470a4b7-60de-4e21-ae96-d3a929106c9d",
   "metadata": {},
   "outputs": [],
   "source": [
    "import numpy as np\n",
    "import re\n",
    "\n",
    "def preprocess(text):\n",
    "    text = text.lower()\n",
    "    text = re.sub(r'[^a-z\\s]', '', text)\n",
    "    return text.split()\n",
    "\n",
    "def sentence_to_avg_vector(sentence, model, dim=100):\n",
    "    words = preprocess(sentence)\n",
    "    vectors = [model[word] for word in words if word in model]\n",
    "    if not vectors:\n",
    "        return np.zeros(dim)\n",
    "    return np.mean(vectors, axis=0)\n"
   ]
  },
  {
   "cell_type": "code",
   "execution_count": 9,
   "id": "2efbc864-89cc-433b-9380-b727867f23f0",
   "metadata": {},
   "outputs": [],
   "source": [
    "text1 = \"100 men killed a lion\"\n",
    "text2 = \"10 men murdered a gorilla\""
   ]
  },
  {
   "cell_type": "code",
   "execution_count": 10,
   "id": "f3be3639-0987-42b0-b851-cf2f9a960f1d",
   "metadata": {},
   "outputs": [
    {
     "name": "stdout",
     "output_type": "stream",
     "text": [
      "Similarity Score :  [[0.91608506]]\n"
     ]
    }
   ],
   "source": [
    "print(\"Similarity Score : \", cosine_similarity([sentence_to_avg_vector(text1,w2v)], [sentence_to_avg_vector(text2,w2v)]))"
   ]
  },
  {
   "cell_type": "code",
   "execution_count": 16,
   "id": "ed88a1a9-3850-4e81-a4c1-58963063acf4",
   "metadata": {},
   "outputs": [
    {
     "data": {
      "text/plain": [
       "array([False, False, False, False, False, False, False, False, False,\n",
       "       False, False, False, False, False, False, False, False, False,\n",
       "       False, False, False, False, False, False, False, False, False,\n",
       "       False, False, False, False, False, False, False, False, False,\n",
       "       False, False, False, False, False, False, False, False, False,\n",
       "       False, False, False, False, False, False, False, False, False,\n",
       "       False, False, False, False, False, False, False, False, False,\n",
       "       False, False, False, False, False, False, False, False, False,\n",
       "       False, False, False, False, False, False, False, False, False,\n",
       "       False, False, False, False, False, False, False, False, False,\n",
       "       False, False, False, False, False, False, False, False, False,\n",
       "       False])"
      ]
     },
     "execution_count": 16,
     "metadata": {},
     "output_type": "execute_result"
    }
   ],
   "source": [
    "w2v[\"murdering\"]==w2v[\"hist\"]"
   ]
  },
  {
   "cell_type": "code",
   "execution_count": null,
   "id": "7def2362-f167-48d8-94b8-8e44a27e2fc0",
   "metadata": {},
   "outputs": [],
   "source": []
  }
 ],
 "metadata": {
  "kernelspec": {
   "display_name": "Python 3 (ipykernel)",
   "language": "python",
   "name": "python3"
  },
  "language_info": {
   "codemirror_mode": {
    "name": "ipython",
    "version": 3
   },
   "file_extension": ".py",
   "mimetype": "text/x-python",
   "name": "python",
   "nbconvert_exporter": "python",
   "pygments_lexer": "ipython3",
   "version": "3.12.10"
  }
 },
 "nbformat": 4,
 "nbformat_minor": 5
}
